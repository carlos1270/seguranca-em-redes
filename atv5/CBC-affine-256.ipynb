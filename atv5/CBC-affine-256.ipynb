{
 "cells": [
  {
   "cell_type": "markdown",
   "metadata": {
    "collapsed": false
   },
   "source": [
    "**7. Crie um software que possa encriptar e decriptar no modo cipher block chaining usando uma das seguintes ci-\n",
    "fras: módulo affine 256, módulo Hill 256, S-DES, DES. teste os dados para S-deS usando um vetor de inicialização binário de 1010 1010. um texto claro binário de 0000\n",
    "0001 0010 0011 encriptado com uma chave binária de 01111 11101 deverá dar um texto claro binário de 1111\n",
    "0100 0000 1011. a decriptação deverá funcionar de modo correspondente.**\n",
    "\n",
    "*obs.: O exemplo do livro é utilizando o modulo S\\-DES e não Affine 256*\n"
   ]
  },
  {
   "cell_type": "code",
   "execution_count": 25,
   "metadata": {
    "collapsed": false
   },
   "outputs": [
   ],
   "source": [
    "def mod_inverse(a, m):\n",
    "    if gcd(a, m) != 1:\n",
    "        return None\n",
    "    u1, u2, u3 = 1, 0, a\n",
    "    v1, v2, v3 = 0, 1, m\n",
    "\n",
    "    while v3 != 0:\n",
    "        q = u3 // v3\n",
    "        v1, v2, v3, u1, u2, u3 = (\n",
    "            u1 - q * v1,\n",
    "            u2 - q * v2,\n",
    "            u3 - q * v3,\n",
    "            v1,\n",
    "            v2,\n",
    "            v3,\n",
    "        )\n",
    "    return u1 % m\n",
    "\n",
    "def affine_encrypt(text, a, b):\n",
    "    encrypted_text = \"\"\n",
    "    for char in text:\n",
    "        char_value = ord(char)\n",
    "        if 0 <= char_value <= 255:\n",
    "            encrypted_value = (a * char_value + b) % 256\n",
    "            encrypted_text += chr(encrypted_value)\n",
    "        else:\n",
    "            encrypted_text += char\n",
    "    return encrypted_text\n",
    "\n",
    "def affine_decrypt(encrypted_text, a, b):\n",
    "    decrypted_text = \"\"\n",
    "    a_inverse = mod_inverse(a, 256)\n",
    "    if a_inverse is None:\n",
    "        return \"Chave inválida. 'a' e 256 devem ser primos entre si.\"\n",
    "\n",
    "    for char in encrypted_text:\n",
    "        char_value = ord(char)\n",
    "        if 0 <= char_value <= 255:\n",
    "            decrypted_value = (a_inverse * (char_value - b)) % 256\n",
    "            decrypted_text += chr(decrypted_value)\n",
    "        else:\n",
    "            decrypted_text += char\n",
    "    return decrypted_text"
   ]
  },
  {
   "cell_type": "code",
   "execution_count": 26,
   "metadata": {
    "collapsed": false
   },
   "outputs": [
    {
     "name": "stdout",
     "output_type": "stream",
     "text": [
      "Texto criptografado: (qè¬-U2\u00007±\n",
      "Texto descriptografado: Olá, mundo!\n"
     ]
    }
   ],
   "source": [
    "# Exemplo de uso:\n",
    "mensagem = \"Olá, mundo!\"\n",
    "chave_a = 5\n",
    "chave_b = 12\n",
    "\n",
    "texto_criptografado = affine_encrypt(mensagem, chave_a, chave_b)\n",
    "print(\"Texto criptografado:\", texto_criptografado)\n",
    "\n",
    "texto_descriptografado = affine_decrypt(texto_criptografado, chave_a, chave_b)\n",
    "print(\"Texto descriptografado:\", texto_descriptografado)"
   ]
  },
  {
   "cell_type": "code",
   "execution_count": 27,
   "metadata": {
    "collapsed": false
   },
   "outputs": [
   ],
   "source": [
    "from operator import xor\n",
    "\n",
    "def cbc_encrypt(plaintext, key, iv):\n",
    "    ciphertext = \"\"\n",
    "    block_size = len(iv)\n",
    "    previous_block = iv\n",
    "\n",
    "    for i in range(0, len(plaintext), block_size):\n",
    "        block = plaintext[i:i+block_size]\n",
    "\n",
    "        # XOR com o bloco IV\n",
    "        xored_block = ''.join(chr(xor(ord(a),ord(b))) for a, b in zip(block, previous_block))\n",
    "\n",
    "        # Encripa o bloco resultante utilizando o Affine 256\n",
    "        encrypted_block = affine_encrypt(xored_block, key[0], key[1])\n",
    "\n",
    "        ciphertext += encrypted_block\n",
    "        previous_block = encrypted_block\n",
    "\n",
    "    return ciphertext\n",
    "\n",
    "def cbc_decrypt(ciphertext, key, iv):\n",
    "    plaintext = \"\"\n",
    "    block_size = len(iv)\n",
    "    previous_block = iv\n",
    "\n",
    "    for i in range(0, len(ciphertext), block_size):\n",
    "        block = ciphertext[i:i+block_size]\n",
    "\n",
    "        # Decripta o bloco usando o Affine 256\n",
    "        decrypted_block = affine_decrypt(block, key[0], key[1])\n",
    "\n",
    "        # XOR com o bloco IV\n",
    "        xored_block = ''.join(chr(xor(ord(a),ord(b))) for a, b in zip(decrypted_block, previous_block))\n",
    "\n",
    "        plaintext += xored_block\n",
    "        previous_block = block\n",
    "\n",
    "    return plaintext"
   ]
  },
  {
   "cell_type": "code",
   "execution_count": 28,
   "metadata": {
    "collapsed": false
   },
   "outputs": [
    {
     "name": "stdout",
     "output_type": "stream",
     "text": [
      "Texto criptografado: òRteCf*M\u001dK\n",
      "Texto descriptografado: Olá, mundo!\n"
     ]
    }
   ],
   "source": [
    "# Exemplo de uso:\n",
    "mensagem = \"Olá, mundo!\"\n",
    "chave_a = 5\n",
    "chave_b = 12\n",
    "vetor_inicializacao = \"abcdefghi\"  # IV deve ter o mesmo tamanho do bloco\n",
    "\n",
    "# Criptografar usando o modo CBC\n",
    "texto_criptografado = cbc_encrypt(mensagem, (chave_a, chave_b), vetor_inicializacao)\n",
    "print(\"Texto criptografado:\", texto_criptografado)\n",
    "\n",
    "# Descriptografar usando o modo CBC\n",
    "texto_descriptografado = cbc_decrypt(texto_criptografado, (chave_a, chave_b), vetor_inicializacao)\n",
    "print(\"Texto descriptografado:\", texto_descriptografado)"
   ]
  }
 ],
 "metadata": {
  "kernelspec": {
   "argv": [
    "sage-10.0",
    "--python",
    "-m",
    "sage.repl.ipython_kernel",
    "--matplotlib=inline",
    "-f",
    "{connection_file}"
   ],
   "display_name": "SageMath 10.0",
   "env": {
   },
   "language": "sagemath",
   "metadata": {
    "cocalc": {
     "description": "Open-source mathematical software system",
     "priority": 10,
     "url": "https://www.sagemath.org/"
    }
   },
   "name": "sage-10.0",
   "resource_dir": "/ext/jupyter/kernels/sage-10.0"
  },
  "language_info": {
   "codemirror_mode": {
    "name": "ipython",
    "version": 3
   },
   "file_extension": ".py",
   "mimetype": "text/x-python",
   "name": "python",
   "nbconvert_exporter": "python",
   "pygments_lexer": "ipython3",
   "version": "3.11.1"
  }
 },
 "nbformat": 4,
 "nbformat_minor": 4
}