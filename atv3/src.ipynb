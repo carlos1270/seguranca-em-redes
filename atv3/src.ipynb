{
 "cells": [
  {
   "cell_type": "markdown",
   "metadata": {
    "collapsed": false
   },
   "source": [
    "## Sétima questão\n",
    "\n"
   ]
  },
  {
   "cell_type": "code",
   "execution_count": 5,
   "metadata": {
    "collapsed": false
   },
   "outputs": [
   ],
   "source": [
    "F.<x> = GF(2^4)"
   ]
  },
  {
   "cell_type": "code",
   "execution_count": 6,
   "metadata": {
    "collapsed": false
   },
   "outputs": [
   ],
   "source": [
    "a =  x^3 + x + 1"
   ]
  },
  {
   "cell_type": "code",
   "execution_count": 7,
   "metadata": {
    "collapsed": false
   },
   "outputs": [
   ],
   "source": [
    "b = x^4 + x + 1\n"
   ]
  },
  {
   "cell_type": "code",
   "execution_count": 8,
   "metadata": {
    "collapsed": false
   },
   "outputs": [
    {
     "data": {
      "text/plain": [
       "x^3 + x + 1"
      ]
     },
     "execution_count": 8,
     "metadata": {
     },
     "output_type": "execute_result"
    }
   ],
   "source": [
    "a-b "
   ]
  },
  {
   "cell_type": "code",
   "execution_count": 9,
   "metadata": {
    "collapsed": false
   },
   "outputs": [
    {
     "name": "stdout",
     "output_type": "stream",
     "text": [
      "(1, x^2 + 1, 0)\n"
     ]
    }
   ],
   "source": [
    "sol = xgcd(a,b)\n",
    "print(sol)"
   ]
  },
  {
   "cell_type": "code",
   "execution_count": 10,
   "metadata": {
    "collapsed": false
   },
   "outputs": [
   ],
   "source": [
    "u = sol[1]\n",
    "v = sol[2]"
   ]
  },
  {
   "cell_type": "code",
   "execution_count": 11,
   "metadata": {
    "collapsed": false
   },
   "outputs": [
    {
     "data": {
      "text/plain": [
       "1"
      ]
     },
     "execution_count": 11,
     "metadata": {
     },
     "output_type": "execute_result"
    }
   ],
   "source": [
    "u * a + v * b"
   ]
  },
  {
   "cell_type": "code",
   "execution_count": 13,
   "metadata": {
    "collapsed": false
   },
   "outputs": [
    {
     "data": {
      "text/plain": [
       "x^2 + 1"
      ]
     },
     "execution_count": 13,
     "metadata": {
     },
     "output_type": "execute_result"
    }
   ],
   "source": [
    "a^-1"
   ]
  },
  {
   "cell_type": "markdown",
   "metadata": {
    "collapsed": false
   },
   "source": [
    "## Nona questão\n",
    "\n"
   ]
  },
  {
   "cell_type": "code",
   "execution_count": 20,
   "metadata": {
    "collapsed": false
   },
   "outputs": [
   ],
   "source": [
    "IM = {0:{},1:{},2:{},3:{},4:{},5:{},6:{},7:{},8:{},9:{},10:{},11:{},12:{},13:{},14:{},15:{}}\n",
    "IS = {0:{},1:{},2:{},3:{},4:{},5:{},6:{},7:{},8:{},9:{},10:{},11:{},12:{},13:{},14:{},15:{}}"
   ]
  },
  {
   "cell_type": "code",
   "execution_count": 21,
   "metadata": {
    "collapsed": false
   },
   "outputs": [
   ],
   "source": [
    "def calc_init_mult(dic, mod):\n",
    "    for i in dic:\n",
    "        for j in dic:\n",
    "            dic[i][j] = (i * j) % mod\n",
    "    return dic\n",
    "\n",
    "def calc_init_sum(dic, mod):\n",
    "    for i in dic:\n",
    "        for j in dic:\n",
    "            dic[i][j] = (i + j) % mod\n",
    "    return dic"
   ]
  },
  {
   "cell_type": "code",
   "execution_count": 24,
   "metadata": {
    "collapsed": false
   },
   "outputs": [
    {
     "name": "stdout",
     "output_type": "stream",
     "text": [
      "Inversos Mult: {0: {0: 0, 1: 0, 2: 0, 3: 0, 4: 0, 5: 0, 6: 0, 7: 0, 8: 0, 9: 0, 10: 0, 11: 0, 12: 0, 13: 0, 14: 0, 15: 0}, 1: {0: 0, 1: 1, 2: 2, 3: 3, 4: 4, 5: 5, 6: 6, 7: 7, 8: 8, 9: 9, 10: 10, 11: 11, 12: 12, 13: 13, 14: 14, 15: 15}, 2: {0: 0, 1: 2, 2: 4, 3: 6, 4: 8, 5: 10, 6: 12, 7: 14, 8: 0, 9: 2, 10: 4, 11: 6, 12: 8, 13: 10, 14: 12, 15: 14}, 3: {0: 0, 1: 3, 2: 6, 3: 9, 4: 12, 5: 15, 6: 2, 7: 5, 8: 8, 9: 11, 10: 14, 11: 1, 12: 4, 13: 7, 14: 10, 15: 13}, 4: {0: 0, 1: 4, 2: 8, 3: 12, 4: 0, 5: 4, 6: 8, 7: 12, 8: 0, 9: 4, 10: 8, 11: 12, 12: 0, 13: 4, 14: 8, 15: 12}, 5: {0: 0, 1: 5, 2: 10, 3: 15, 4: 4, 5: 9, 6: 14, 7: 3, 8: 8, 9: 13, 10: 2, 11: 7, 12: 12, 13: 1, 14: 6, 15: 11}, 6: {0: 0, 1: 6, 2: 12, 3: 2, 4: 8, 5: 14, 6: 4, 7: 10, 8: 0, 9: 6, 10: 12, 11: 2, 12: 8, 13: 14, 14: 4, 15: 10}, 7: {0: 0, 1: 7, 2: 14, 3: 5, 4: 12, 5: 3, 6: 10, 7: 1, 8: 8, 9: 15, 10: 6, 11: 13, 12: 4, 13: 11, 14: 2, 15: 9}, 8: {0: 0, 1: 8, 2: 0, 3: 8, 4: 0, 5: 8, 6: 0, 7: 8, 8: 0, 9: 8, 10: 0, 11: 8, 12: 0, 13: 8, 14: 0, 15: 8}, 9: {0: 0, 1: 9, 2: 2, 3: 11, 4: 4, 5: 13, 6: 6, 7: 15, 8: 8, 9: 1, 10: 10, 11: 3, 12: 12, 13: 5, 14: 14, 15: 7}, 10: {0: 0, 1: 10, 2: 4, 3: 14, 4: 8, 5: 2, 6: 12, 7: 6, 8: 0, 9: 10, 10: 4, 11: 14, 12: 8, 13: 2, 14: 12, 15: 6}, 11: {0: 0, 1: 11, 2: 6, 3: 1, 4: 12, 5: 7, 6: 2, 7: 13, 8: 8, 9: 3, 10: 14, 11: 9, 12: 4, 13: 15, 14: 10, 15: 5}, 12: {0: 0, 1: 12, 2: 8, 3: 4, 4: 0, 5: 12, 6: 8, 7: 4, 8: 0, 9: 12, 10: 8, 11: 4, 12: 0, 13: 12, 14: 8, 15: 4}, 13: {0: 0, 1: 13, 2: 10, 3: 7, 4: 4, 5: 1, 6: 14, 7: 11, 8: 8, 9: 5, 10: 2, 11: 15, 12: 12, 13: 9, 14: 6, 15: 3}, 14: {0: 0, 1: 14, 2: 12, 3: 10, 4: 8, 5: 6, 6: 4, 7: 2, 8: 0, 9: 14, 10: 12, 11: 10, 12: 8, 13: 6, 14: 4, 15: 2}, 15: {0: 0, 1: 15, 2: 14, 3: 13, 4: 12, 5: 11, 6: 10, 7: 9, 8: 8, 9: 7, 10: 6, 11: 5, 12: 4, 13: 3, 14: 2, 15: 1}} Inversos Soma: {0: {0: 0, 1: 1, 2: 2, 3: 3, 4: 4, 5: 5, 6: 6, 7: 7, 8: 8, 9: 9, 10: 10, 11: 11, 12: 12, 13: 13, 14: 14, 15: 15}, 1: {0: 1, 1: 2, 2: 3, 3: 4, 4: 5, 5: 6, 6: 7, 7: 8, 8: 9, 9: 10, 10: 11, 11: 12, 12: 13, 13: 14, 14: 15, 15: 0}, 2: {0: 2, 1: 3, 2: 4, 3: 5, 4: 6, 5: 7, 6: 8, 7: 9, 8: 10, 9: 11, 10: 12, 11: 13, 12: 14, 13: 15, 14: 0, 15: 1}, 3: {0: 3, 1: 4, 2: 5, 3: 6, 4: 7, 5: 8, 6: 9, 7: 10, 8: 11, 9: 12, 10: 13, 11: 14, 12: 15, 13: 0, 14: 1, 15: 2}, 4: {0: 4, 1: 5, 2: 6, 3: 7, 4: 8, 5: 9, 6: 10, 7: 11, 8: 12, 9: 13, 10: 14, 11: 15, 12: 0, 13: 1, 14: 2, 15: 3}, 5: {0: 5, 1: 6, 2: 7, 3: 8, 4: 9, 5: 10, 6: 11, 7: 12, 8: 13, 9: 14, 10: 15, 11: 0, 12: 1, 13: 2, 14: 3, 15: 4}, 6: {0: 6, 1: 7, 2: 8, 3: 9, 4: 10, 5: 11, 6: 12, 7: 13, 8: 14, 9: 15, 10: 0, 11: 1, 12: 2, 13: 3, 14: 4, 15: 5}, 7: {0: 7, 1: 8, 2: 9, 3: 10, 4: 11, 5: 12, 6: 13, 7: 14, 8: 15, 9: 0, 10: 1, 11: 2, 12: 3, 13: 4, 14: 5, 15: 6}, 8: {0: 8, 1: 9, 2: 10, 3: 11, 4: 12, 5: 13, 6: 14, 7: 15, 8: 0, 9: 1, 10: 2, 11: 3, 12: 4, 13: 5, 14: 6, 15: 7}, 9: {0: 9, 1: 10, 2: 11, 3: 12, 4: 13, 5: 14, 6: 15, 7: 0, 8: 1, 9: 2, 10: 3, 11: 4, 12: 5, 13: 6, 14: 7, 15: 8}, 10: {0: 10, 1: 11, 2: 12, 3: 13, 4: 14, 5: 15, 6: 0, 7: 1, 8: 2, 9: 3, 10: 4, 11: 5, 12: 6, 13: 7, 14: 8, 15: 9}, 11: {0: 11, 1: 12, 2: 13, 3: 14, 4: 15, 5: 0, 6: 1, 7: 2, 8: 3, 9: 4, 10: 5, 11: 6, 12: 7, 13: 8, 14: 9, 15: 10}, 12: {0: 12, 1: 13, 2: 14, 3: 15, 4: 0, 5: 1, 6: 2, 7: 3, 8: 4, 9: 5, 10: 6, 11: 7, 12: 8, 13: 9, 14: 10, 15: 11}, 13: {0: 13, 1: 14, 2: 15, 3: 0, 4: 1, 5: 2, 6: 3, 7: 4, 8: 5, 9: 6, 10: 7, 11: 8, 12: 9, 13: 10, 14: 11, 15: 12}, 14: {0: 14, 1: 15, 2: 0, 3: 1, 4: 2, 5: 3, 6: 4, 7: 5, 8: 6, 9: 7, 10: 8, 11: 9, 12: 10, 13: 11, 14: 12, 15: 13}, 15: {0: 15, 1: 0, 2: 1, 3: 2, 4: 3, 5: 4, 6: 5, 7: 6, 8: 7, 9: 8, 10: 9, 11: 10, 12: 11, 13: 12, 14: 13, 15: 14}}\n"
     ]
    }
   ],
   "source": [
    "print(f\"Inversos Mult: {calc_init_mult(IM, 16)}\", f\"Inversos Soma: {calc_init_sum(IS, 16)}\")"
   ]
  },
  {
   "cell_type": "code",
   "execution_count": 68,
   "metadata": {
    "collapsed": false
   },
   "outputs": [
   ],
   "source": [
    "def soma(a,b):\n",
    "    return IS[a][b]\n",
    "\n",
    "def mult(a,b):\n",
    "    return IM[a][b]\n",
    "\n",
    "def inv_sum(x):\n",
    "    for i in IS:\n",
    "        if IS[x][i] == 0:\n",
    "            return i\n",
    "    \n",
    "    return \"Não existe\"\n",
    "\n",
    "def inv_mult(x):\n",
    "    for i in IM:\n",
    "        if IM[x][i] == 1:\n",
    "            return i\n",
    "        \n",
    "    return \"Não existe\"\n",
    "\n",
    "def calc(a, op, b=None):\n",
    "    x = \"\"\n",
    "    if op == '+':\n",
    "        x = soma(a,b)\n",
    "    elif op == '*':\n",
    "        x = mult(a,b)\n",
    "    elif op == '+^':\n",
    "        x = inv_sum(a)\n",
    "    elif op == '*^':\n",
    "        x = inv_mult(a)\n",
    "    \n",
    "    return x"
   ]
  },
  {
   "cell_type": "code",
   "execution_count": 73,
   "metadata": {
    "collapsed": false
   },
   "outputs": [
    {
     "name": "stdout",
     "output_type": "stream",
     "text": [
      "Soma: 1\n",
      "Inverso aditivo: 10\n",
      "Multiplicação: 12\n",
      "Inverso multiplicativo: 11\n"
     ]
    }
   ],
   "source": [
    "print(f\"Soma: {calc(4,'+',13)}\\nInverso aditivo: {calc(6,'+^')}\\nMultiplicação: {calc(6,'*',10)}\\nInverso multiplicativo: {calc(3,'*^')}\")"
   ]
  }
 ],
 "metadata": {
  "kernelspec": {
   "argv": [
    "sage-10.0",
    "--python",
    "-m",
    "sage.repl.ipython_kernel",
    "--matplotlib=inline",
    "-f",
    "{connection_file}"
   ],
   "display_name": "SageMath 10.0",
   "env": {
   },
   "language": "sagemath",
   "metadata": {
    "cocalc": {
     "description": "Open-source mathematical software system",
     "priority": 10,
     "url": "https://www.sagemath.org/"
    }
   },
   "name": "sage-10.0",
   "resource_dir": "/ext/jupyter/kernels/sage-10.0"
  },
  "language_info": {
   "codemirror_mode": {
    "name": "ipython",
    "version": 3
   },
   "file_extension": ".py",
   "mimetype": "text/x-python",
   "name": "python",
   "nbconvert_exporter": "python",
   "pygments_lexer": "ipython3",
   "version": "3.11.1"
  }
 },
 "nbformat": 4,
 "nbformat_minor": 4
}