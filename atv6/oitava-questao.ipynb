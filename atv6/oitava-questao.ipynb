{
 "cells": [
  {
   "cell_type": "markdown",
   "metadata": {
    "collapsed": false
   },
   "source": [
    "**8. O algoritmo Blum Blum Shub é baseado na teoria dos resíduos quadráticos e utiliza três números inteiros para realizar os cálculos: p, q e s.**\n",
    "\n",
    "**a. Escolha dois números primos grandes p e q, onde p e q sejam congruentes a 3 mod 4 e não tenham fatores primos comuns. Por exemplo, você pode escolher p = 499 e q = 503.**\n"
   ]
  },
  {
   "cell_type": "code",
   "execution_count": 7,
   "metadata": {
    "collapsed": false
   },
   "outputs": [
    {
     "name": "stdout",
     "output_type": "stream",
     "text": [
      "3 3\n",
      "1\n"
     ]
    }
   ],
   "source": [
    "## Supondo primos 563 e 727\n",
    "print(563 % 4, 727 % 4)\n",
    "print(gcd(563,727))"
   ]
  },
  {
   "cell_type": "markdown",
   "metadata": {
    "collapsed": false
   },
   "source": [
    "**b. Calcule n = p ∗ q. Neste caso, n seria igual a 499 ∗ 503 = 250997.**\n"
   ]
  },
  {
   "cell_type": "code",
   "execution_count": 8,
   "metadata": {
    "collapsed": false
   },
   "outputs": [
    {
     "data": {
      "text/plain": [
       "409301"
      ]
     },
     "execution_count": 8,
     "metadata": {},
     "output_type": "execute_result"
    }
   ],
   "source": [
    "563 * 727"
   ]
  },
  {
   "cell_type": "markdown",
   "metadata": {
    "collapsed": false
   },
   "source": [
    "**c. Escolha um número inteiro s entre 1 e n − 1 que seja co\\-primo com n. Por exemplo, você pode escolher s = 17.**\n"
   ]
  },
  {
   "cell_type": "code",
   "execution_count": 12,
   "metadata": {
    "collapsed": false
   },
   "outputs": [
    {
     "data": {
      "text/plain": [
       "1"
      ]
     },
     "execution_count": 12,
     "metadata": {},
     "output_type": "execute_result"
    }
   ],
   "source": [
    "# S = 37\n",
    "\n",
    "gcd(409301,37)"
   ]
  },
  {
   "cell_type": "markdown",
   "metadata": {
    "collapsed": false
   },
   "source": [
    "**d. Calcule o valor inicial x<sub>0</sub> = \\(s<sup>2</sup>\\) mod n. Neste caso, x<sub>0</sub> seria igual a \\(17<sup>2</sup>\\) mod 250997 =289.**\n",
    "\n"
   ]
  },
  {
   "cell_type": "code",
   "execution_count": 13,
   "metadata": {
    "collapsed": false
   },
   "outputs": [
    {
     "data": {
      "text/plain": [
       "1369"
      ]
     },
     "execution_count": 13,
     "metadata": {},
     "output_type": "execute_result"
    }
   ],
   "source": [
    "37^2 % 409301"
   ]
  },
  {
   "cell_type": "markdown",
   "metadata": {
    "collapsed": false
   },
   "source": [
    "**e. Agora, vamos gerar uma sequência de números aleatórios usando o algoritmo Blum Blum Shub. Para gerar cada número da sequência, use a seguinte fórmula: x<sub>i</sub> = \\(x<sup>2</sup><sub>i - 1</sub>\\) mod n.**\n",
    "\n"
   ]
  },
  {
   "cell_type": "code",
   "execution_count": 14,
   "metadata": {
    "collapsed": false
   },
   "outputs": [
    {
     "name": "stdout",
     "output_type": "stream",
     "text": [
      "236957\n"
     ]
    }
   ],
   "source": [
    "x_1 = 1369^2 % 409301\n",
    "print(x_1)"
   ]
  },
  {
   "cell_type": "markdown",
   "metadata": {
    "collapsed": false
   },
   "source": [
    "**f. Execute a fórmula várias vezes para gerar uma sequência de números aleatórios. Por exemplo, você pode executar a fórmula 10 vezes para obter 10 números aleatórios.**\n",
    "\n",
    "**Aqui está a sequência de números aleatórios gerados usando o algoritmo Blum Blum Shub com os valores do exemplo:**\n",
    "\n",
    "**289, 253306, 14107, 23546, 67740, 144593, 79829, 46219, 132936, 9863**\n",
    "\n",
    "**Qual foi a sua sequência?**\n"
   ]
  },
  {
   "cell_type": "code",
   "execution_count": 18,
   "metadata": {
    "collapsed": false
   },
   "outputs": [
    {
     "name": "stdout",
     "output_type": "stream",
     "text": [
      "X_0: 1369\n",
      "X_1: 236957\n",
      "X_2: 299368\n",
      "X_3: 243163\n",
      "X_4: 212808\n",
      "X_5: 135719\n",
      "X_6: 283359\n",
      "X_7: 155012\n",
      "X_8: 295638\n",
      "X_9: 100805\n",
      "X_10: 341399\n",
      "X_11: 315140\n",
      "X_12: 15659\n",
      "X_13: 32982\n",
      "X_14: 299567\n",
      "X_15: 324637\n",
      "X_16: 313784\n",
      "X_17: 177999\n",
      "X_18: 62892\n",
      "X_19: 328101\n",
      "X_20: 10191\n"
     ]
    }
   ],
   "source": [
    "x_temp = 1369\n",
    "for i in range(21):\n",
    "    print(f\"X_{i}: {x_temp}\")\n",
    "    x_temp = x_temp^2 % 409301"
   ]
  }
 ],
 "metadata": {
  "kernelspec": {
   "argv": [
    "sage-10.0",
    "--python",
    "-m",
    "sage.repl.ipython_kernel",
    "--matplotlib=inline",
    "-f",
    "{connection_file}"
   ],
   "display_name": "SageMath 10.0",
   "env": {},
   "language": "sagemath",
   "metadata": {
    "cocalc": {
     "description": "Open-source mathematical software system",
     "priority": 10,
     "url": "https://www.sagemath.org/"
    }
   },
   "name": "sage-10.0",
   "resource_dir": "/ext/jupyter/kernels/sage-10.0"
  },
  "language_info": {
   "codemirror_mode": {
    "name": "ipython",
    "version": 3
   },
   "file_extension": ".py",
   "mimetype": "text/x-python",
   "name": "python",
   "nbconvert_exporter": "python",
   "pygments_lexer": "ipython3",
   "version": "3.11.1"
  }
 },
 "nbformat": 4,
 "nbformat_minor": 4
}
